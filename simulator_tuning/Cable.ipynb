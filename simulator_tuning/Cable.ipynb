{
 "cells": [
  {
   "cell_type": "markdown",
   "metadata": {},
   "source": [
    "Calculating the Position and Quaterion of 18 Elements to get a cable which reaches from the pendulum motor to the AUX input. Each element for the cable is 1 cm long whereas the cable itself should be 18cm long. Therfore, we get 18 elements in total, which we have to arange so that it matches the correct structure."
   ]
  },
  {
   "cell_type": "markdown",
   "metadata": {},
   "source": [
    "- The first 3 elements are stacked on top of each other:\n",
    "    - Positions of the bodies for each: pos=\"0.01 0 0\"\n",
    "    - Positions and quaterion of the inertials: pos=\"0 0 0\" quat=\"0.707107 0 0.707107 0\"\n",
    "    - Positions and quaterion of the geom: size=\"0.0015 0.005\" quat=\"0.707107 0 0.707107 0\""
   ]
  },
  {
   "cell_type": "markdown",
   "metadata": {},
   "source": [
    "- The last five elements are stacked up-side-down on top of each other\n",
    "    - TODO"
   ]
  },
  {
   "cell_type": "markdown",
   "metadata": {},
   "source": [
    "- The positions of the residual 10 elements can be calculated so that they are aranged in half-circle:"
   ]
  },
  {
   "cell_type": "code",
   "execution_count": 2,
   "metadata": {},
   "outputs": [
    {
     "name": "stdout",
     "output_type": "stream",
     "text": [
      "_____________________ B4 _____________________\n",
      "<body name=\"B4\" pos=\"0.009807852804032305 0.0019509032201612826 0.0\">\n",
      "<inertial pos=\"0 0 0\" quat=\"0.6935201372700871 -0.1379497323298584 0.6935201372700871 0.1379497323298584\" mass=\"8.12887e-05\" diaginertia=\"9.41594e-10 9.41594e-10 9.14498e-11\" />\n",
      "<geom name=\"G4\" size=\"0.0015 0.005\" quat=\"0.6935201372700871 -0.1379497323298584 0.6935201372700871 0.1379497323298584\" type=\"capsule\" />\n",
      "_____________________ B5 _____________________\n",
      "<body name=\"B5\" pos=\"0.008314696123025453 0.005555702330196022 0.0\">\n",
      "<inertial pos=\"0 0 0\" quat=\"0.6532816845954584 -0.2705981338093816 0.6532816845954584 0.2705981338093816\" mass=\"8.12887e-05\" diaginertia=\"9.41594e-10 9.41594e-10 9.14498e-11\" />\n",
      "<geom name=\"G5\" size=\"0.0015 0.005\" quat=\"0.6532816845954584 -0.2705981338093816 0.6532816845954584 0.2705981338093816\" type=\"capsule\" />\n",
      "_____________________ B6 _____________________\n",
      "<body name=\"B6\" pos=\"0.005555702330196023 0.008314696123025453 0.0\">\n",
      "<inertial pos=\"0 0 0\" quat=\"0.5879379831464159 -0.39284760075979186 0.5879379831464159 0.39284760075979186\" mass=\"8.12887e-05\" diaginertia=\"9.41594e-10 9.41594e-10 9.14498e-11\" />\n",
      "<geom name=\"G6\" size=\"0.0015 0.005\" quat=\"0.5879379831464159 -0.39284760075979186 0.5879379831464159 0.39284760075979186\" type=\"capsule\" />\n",
      "_____________________ B7 _____________________\n",
      "<body name=\"B7\" pos=\"0.0019509032201612834 0.009807852804032305 0.0\">\n",
      "<inertial pos=\"0 0 0\" quat=\"0.5000001547244761 -0.500000154724476 0.5000001547244761 0.500000154724476\" mass=\"8.12887e-05\" diaginertia=\"9.41594e-10 9.41594e-10 9.14498e-11\" />\n",
      "<geom name=\"G7\" size=\"0.0015 0.005\" quat=\"0.5000001547244761 -0.500000154724476 0.5000001547244761 0.500000154724476\" type=\"capsule\" />\n",
      "_____________________ B8 _____________________\n",
      "<body name=\"B8\" pos=\"-0.001950903220161282 0.009807852804032305 0.0\">\n",
      "<inertial pos=\"0 0 0\" quat=\"0.3928476007597919 -0.5879379831464159 0.3928476007597919 0.5879379831464159\" mass=\"8.12887e-05\" diaginertia=\"9.41594e-10 9.41594e-10 9.14498e-11\" />\n",
      "<geom name=\"G8\" size=\"0.0015 0.005\" quat=\"0.3928476007597919 -0.5879379831464159 0.3928476007597919 0.5879379831464159\" type=\"capsule\" />\n",
      "_____________________ B9 _____________________\n",
      "<body name=\"B9\" pos=\"-0.00555570233019602 0.008314696123025454 0.0\">\n",
      "<inertial pos=\"0 0 0\" quat=\"0.2705981338093816 -0.6532816845954584 0.2705981338093816 0.6532816845954584\" mass=\"8.12887e-05\" diaginertia=\"9.41594e-10 9.41594e-10 9.14498e-11\" />\n",
      "<geom name=\"G9\" size=\"0.0015 0.005\" quat=\"0.2705981338093816 -0.6532816845954584 0.2705981338093816 0.6532816845954584\" type=\"capsule\" />\n",
      "_____________________ B10 _____________________\n",
      "<body name=\"B10\" pos=\"-0.008314696123025454 0.005555702330196022 0.0\">\n",
      "<inertial pos=\"0 0 0\" quat=\"0.13794973232985847 -0.6935201372700871 0.13794973232985847 0.6935201372700871\" mass=\"8.12887e-05\" diaginertia=\"9.41594e-10 9.41594e-10 9.14498e-11\" />\n",
      "<geom name=\"G10\" size=\"0.0015 0.005\" quat=\"0.13794973232985847 -0.6935201372700871 0.13794973232985847 0.6935201372700871\" type=\"capsule\" />\n",
      "_____________________ B11 _____________________\n",
      "<body name=\"B11\" pos=\"-0.009807852804032305 0.001950903220161286 0.0\">\n",
      "<inertial pos=\"0 0 0\" quat=\"4.329781621023438e-17 -0.707107 4.329781621023438e-17 0.707107\" mass=\"8.12887e-05\" diaginertia=\"9.41594e-10 9.41594e-10 9.14498e-11\" />\n",
      "<geom name=\"G11\" size=\"0.0015 0.005\" quat=\"4.329781621023438e-17 -0.707107 4.329781621023438e-17 0.707107\" type=\"capsule\" />\n"
     ]
    }
   ],
   "source": [
    "import math\n",
    "import numpy as np\n",
    "import quaternion\n",
    "\n",
    "start = 4\n",
    "n_circle_segments = 8\n",
    "for i in range(n_circle_segments):\n",
    "    print(f'_____________________ B{start+i} _____________________')\n",
    "    rotation_pos = (math.pi/n_circle_segments)*(i+1/2)\n",
    "    print(f'<body name=\"B{start+i}\" pos=\"{0.01*math.cos(rotation_pos)} {0.01*math.sin(rotation_pos)} 0.0\">')\n",
    "    rotation_quat = (math.pi/n_circle_segments)*(i+1)\n",
    "    quat = np.quaternion(0.707107, 0, 0.707107,0)\n",
    "    additional = np.quaternion(math.cos(rotation_quat/2), 0, 0, math.sin(rotation_quat/2))\n",
    "    print(f'<inertial pos=\"0 0 0\" quat=\"{\" \".join(str(x) for x in quaternion.as_float_array(additional*quat))}\" mass=\"8.12887e-05\" diaginertia=\"9.41594e-10 9.41594e-10 9.14498e-11\" />')\n",
    "    print(f'<geom name=\"G{start+i}\" size=\"0.0015 0.005\" quat=\"{\" \".join(str(x) for x in quaternion.as_float_array(additional*quat))}\" type=\"capsule\" />')\n",
    "    "
   ]
  },
  {
   "cell_type": "code",
   "execution_count": null,
   "metadata": {},
   "outputs": [],
   "source": []
  }
 ],
 "metadata": {
  "kernelspec": {
   "display_name": "Python 3",
   "language": "python",
   "name": "python3"
  },
  "language_info": {
   "codemirror_mode": {
    "name": "ipython",
    "version": 3
   },
   "file_extension": ".py",
   "mimetype": "text/x-python",
   "name": "python",
   "nbconvert_exporter": "python",
   "pygments_lexer": "ipython3",
   "version": "3.8.3"
  }
 },
 "nbformat": 4,
 "nbformat_minor": 4
}
